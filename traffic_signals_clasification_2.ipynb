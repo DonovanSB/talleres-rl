{
 "cells": [
  {
   "cell_type": "code",
   "execution_count": 55,
   "metadata": {
    "executionInfo": {
     "elapsed": 381,
     "status": "ok",
     "timestamp": 1680280894595,
     "user": {
      "displayName": "Donovan Burbano",
      "userId": "04952822855501173167"
     },
     "user_tz": 300
    },
    "id": "nbr5mcVCVVVS"
   },
   "outputs": [],
   "source": [
    "# Este codigo corresponde a una NN para clasificacion de senales de trafico\n",
    "# Marzo 17, 2023"
   ]
  },
  {
   "attachments": {},
   "cell_type": "markdown",
   "metadata": {},
   "source": [
    "# Definición de rutas"
   ]
  },
  {
   "cell_type": "code",
   "execution_count": 56,
   "metadata": {},
   "outputs": [],
   "source": [
    "data_path = 'D:\\MaIE\\Semestre3\\RL\\Data\\TrafficSignals'\n",
    "models_path = 'models'\n",
    "train_data_path = 'D:\\MaIE\\Semestre3\\RL\\Data\\TrafficSignals\\Train'\n",
    "labels_path = 'D:\\MaIE\\Semestre3\\RL\\Data\\TrafficSignals\\Test.csv'"
   ]
  },
  {
   "cell_type": "code",
   "execution_count": 57,
   "metadata": {
    "executionInfo": {
     "elapsed": 44319,
     "status": "ok",
     "timestamp": 1680281006245,
     "user": {
      "displayName": "Donovan Burbano",
      "userId": "04952822855501173167"
     },
     "user_tz": 300
    },
    "id": "_2ZoB-28VVVT"
   },
   "outputs": [],
   "source": [
    "import os\n",
    "from matplotlib.image import imread\n",
    "from skimage.transform import resize\n",
    "# Organizamos los datos de entranamiento\n",
    "data = []\n",
    "labels = []\n",
    "classes = 43 # la cantidad posible de etiquetas\n",
    "lista = os.listdir(train_data_path)\n",
    "lista.remove('.DS_Store')\n",
    "for i in lista: # for loop para las carpetas\n",
    "    dir = train_data_path+'/'+i\n",
    "    for j in os.listdir(dir): # for loop para las imagenes dentro de la carpeta\n",
    "        ima_path = dir+'/'+j\n",
    "        imagen = imread(ima_path,-1)\n",
    "        imagen = resize(imagen,(32,32))\n",
    "        data.append(imagen)\n",
    "        labels.append(i)"
   ]
  },
  {
   "cell_type": "code",
   "execution_count": 58,
   "metadata": {
    "colab": {
     "base_uri": "https://localhost:8080/"
    },
    "executionInfo": {
     "elapsed": 15,
     "status": "ok",
     "timestamp": 1680281006245,
     "user": {
      "displayName": "Donovan Burbano",
      "userId": "04952822855501173167"
     },
     "user_tz": 300
    },
    "id": "jWvAQfV8VVVT",
    "outputId": "f466ea21-31fa-483f-e36f-b33c763638a8"
   },
   "outputs": [
    {
     "name": "stdout",
     "output_type": "stream",
     "text": [
      "(39209, 32, 32, 3) (39209,)\n"
     ]
    }
   ],
   "source": [
    "import numpy as np\n",
    "data1 = np.array(data)\n",
    "labels1 = np.array(labels)\n",
    "print(data1.shape,labels1.shape)"
   ]
  },
  {
   "cell_type": "code",
   "execution_count": 59,
   "metadata": {
    "colab": {
     "base_uri": "https://localhost:8080/",
     "height": 106
    },
    "executionInfo": {
     "elapsed": 7,
     "status": "ok",
     "timestamp": 1680281006245,
     "user": {
      "displayName": "Donovan Burbano",
      "userId": "04952822855501173167"
     },
     "user_tz": 300
    },
    "id": "2ibiE5YZVVVU",
    "outputId": "4f2bf567-d79a-4777-82d1-3e2062e9d51c"
   },
   "outputs": [
    {
     "data": {
      "text/plain": [
       "<matplotlib.image.AxesImage at 0x2599638aa00>"
      ]
     },
     "execution_count": 59,
     "metadata": {},
     "output_type": "execute_result"
    },
    {
     "data": {
      "image/png": "[encoded data removed]",
      "text/plain": [
       "<Figure size 640x480 with 1 Axes>"
      ]
     },
     "metadata": {},
     "output_type": "display_data"
    }
   ],
   "source": [
    "import matplotlib.pyplot as plt\n",
    "plt.imshow(imagen)"
   ]
  },
  {
   "cell_type": "code",
   "execution_count": 60,
   "metadata": {
    "colab": {
     "base_uri": "https://localhost:8080/",
     "height": 380
    },
    "executionInfo": {
     "elapsed": 524,
     "status": "error",
     "timestamp": 1680281006765,
     "user": {
      "displayName": "Donovan Burbano",
      "userId": "04952822855501173167"
     },
     "user_tz": 300
    },
    "id": "X5IvPc6ZVVVU",
    "outputId": "26ac2bd5-49e7-4a36-fe3f-fc3c5535f248"
   },
   "outputs": [],
   "source": [
    "# organizar los datos de testeo\n",
    "import pandas as pd\n",
    "import os\n",
    "data = []\n",
    "labels = []\n",
    "Table = pd.read_csv(labels_path)\n",
    "Table['Path']\n",
    "for j in range(0,Table['Path'].shape[0]):\n",
    "    ima_path =os.path.join(data_path, Table['Path'][j])\n",
    "    imagen = imread(ima_path,-1)\n",
    "    imagen = resize(imagen,(32,32))\n",
    "    data.append(imagen)\n",
    "    labels.append(Table['ClassId'][j])"
   ]
  },
  {
   "cell_type": "code",
   "execution_count": 61,
   "metadata": {
    "executionInfo": {
     "elapsed": 5,
     "status": "aborted",
     "timestamp": 1680281006765,
     "user": {
      "displayName": "Donovan Burbano",
      "userId": "04952822855501173167"
     },
     "user_tz": 300
    },
    "id": "uH6z5IRqVVVU"
   },
   "outputs": [
    {
     "name": "stdout",
     "output_type": "stream",
     "text": [
      "(12630, 32, 32, 3) (12630,)\n"
     ]
    }
   ],
   "source": [
    "data2 = np.array(data)\n",
    "labels2 = np.array(labels)\n",
    "print(data2.shape,labels2.shape)"
   ]
  },
  {
   "cell_type": "code",
   "execution_count": 62,
   "metadata": {
    "executionInfo": {
     "elapsed": 5,
     "status": "aborted",
     "timestamp": 1680281006765,
     "user": {
      "displayName": "Donovan Burbano",
      "userId": "04952822855501173167"
     },
     "user_tz": 300
    },
    "id": "BkzTXRQrVVVU"
   },
   "outputs": [],
   "source": [
    "# Organizamos entradas y salidas de la NN\n",
    "X_train = data1\n",
    "y_train = labels1\n",
    "X_test = data2\n",
    "y_test = labels2"
   ]
  },
  {
   "cell_type": "code",
   "execution_count": 63,
   "metadata": {
    "executionInfo": {
     "elapsed": 6,
     "status": "aborted",
     "timestamp": 1680281006766,
     "user": {
      "displayName": "Donovan Burbano",
      "userId": "04952822855501173167"
     },
     "user_tz": 300
    },
    "id": "caJIJY7nVVVV"
   },
   "outputs": [
    {
     "name": "stdout",
     "output_type": "stream",
     "text": [
      "(12630, 43)\n"
     ]
    }
   ],
   "source": [
    "from tensorflow.keras.utils import to_categorical\n",
    "y_train = to_categorical(y_train,43)\n",
    "y_test = to_categorical(y_test,43)\n",
    "print(y_test.shape)"
   ]
  },
  {
   "cell_type": "code",
   "execution_count": null,
   "metadata": {
    "executionInfo": {
     "elapsed": 6,
     "status": "aborted",
     "timestamp": 1680281006766,
     "user": {
      "displayName": "Donovan Burbano",
      "userId": "04952822855501173167"
     },
     "user_tz": 300
    },
    "id": "hHrkvv-XVVVV"
   },
   "outputs": [],
   "source": [
    "# definimos la arquitectura de la NN\n",
    "from keras.preprocessing.image import ImageDataGenerator\n",
    "from keras.models import Sequential, load_model\n",
    "from keras.layers import Conv2D, MaxPool2D, MaxPooling2D, Dense, Flatten, Dropout\n",
    "from tensorflow.keras.layers.experimental.preprocessing import Rescaling\n",
    "\n",
    "model = Sequential()\n",
    "model.add(Conv2D(32, (3, 3), activation='relu', input_shape=(32, 32, 3))) # 32x32x3\n",
    "# model.add(MaxPooling2D(pool_size=(2, 2)))\n",
    "# model.add(Conv2D(64, (3, 3), activation='relu'))\n",
    "# model.add(MaxPooling2D(pool_size=(2, 2)))\n",
    "# model.add(Conv2D(128, (3, 3), activation='relu'))\n",
    "# model.add(MaxPooling2D(pool_size=(2, 2)))\n",
    "model.add(Flatten())\n",
    "model.add(Dense(256, activation='relu'))\n",
    "model.add(Dense(43, activation='softmax'))"
   ]
  },
  {
   "cell_type": "code",
   "execution_count": 65,
   "metadata": {
    "executionInfo": {
     "elapsed": 6,
     "status": "aborted",
     "timestamp": 1680281006766,
     "user": {
      "displayName": "Donovan Burbano",
      "userId": "04952822855501173167"
     },
     "user_tz": 300
    },
    "id": "bwmpONy3az1l"
   },
   "outputs": [],
   "source": [
    "model.compile(loss='categorical_crossentropy',optimizer='adam',metrics=['accuracy'])"
   ]
  },
  {
   "cell_type": "code",
   "execution_count": 66,
   "metadata": {
    "executionInfo": {
     "elapsed": 6,
     "status": "aborted",
     "timestamp": 1680281006766,
     "user": {
      "displayName": "Donovan Burbano",
      "userId": "04952822855501173167"
     },
     "user_tz": 300
    },
    "id": "Xebeya1TVVVV"
   },
   "outputs": [
    {
     "name": "stdout",
     "output_type": "stream",
     "text": [
      "Epoch 1/15\n",
      "613/613 [==============================] - 13s 21ms/step - loss: 0.8848 - accuracy: 0.7766 - val_loss: 0.6104 - val_accuracy: 0.8408\n",
      "Epoch 2/15\n",
      "613/613 [==============================] - 12s 20ms/step - loss: 0.1721 - accuracy: 0.9584 - val_loss: 0.4947 - val_accuracy: 0.8754\n",
      "Epoch 3/15\n",
      "613/613 [==============================] - 12s 20ms/step - loss: 0.0926 - accuracy: 0.9771 - val_loss: 0.5049 - val_accuracy: 0.8838\n",
      "Epoch 4/15\n",
      "613/613 [==============================] - 12s 20ms/step - loss: 0.0606 - accuracy: 0.9841 - val_loss: 0.6453 - val_accuracy: 0.8713\n",
      "Epoch 5/15\n",
      "613/613 [==============================] - 12s 20ms/step - loss: 0.0511 - accuracy: 0.9863 - val_loss: 0.5230 - val_accuracy: 0.8971\n",
      "Epoch 6/15\n",
      "613/613 [==============================] - 12s 20ms/step - loss: 0.0344 - accuracy: 0.9912 - val_loss: 0.5883 - val_accuracy: 0.8862\n",
      "Epoch 7/15\n",
      "613/613 [==============================] - 13s 21ms/step - loss: 0.0361 - accuracy: 0.9908 - val_loss: 0.6710 - val_accuracy: 0.8809\n",
      "Epoch 8/15\n",
      "613/613 [==============================] - 13s 21ms/step - loss: 0.0264 - accuracy: 0.9935 - val_loss: 0.6592 - val_accuracy: 0.8960\n",
      "Epoch 9/15\n",
      "613/613 [==============================] - 13s 21ms/step - loss: 0.0232 - accuracy: 0.9935 - val_loss: 0.6951 - val_accuracy: 0.8952\n",
      "Epoch 10/15\n",
      "613/613 [==============================] - 13s 21ms/step - loss: 0.0236 - accuracy: 0.9940 - val_loss: 0.7409 - val_accuracy: 0.8948\n",
      "Epoch 11/15\n",
      "613/613 [==============================] - 13s 21ms/step - loss: 0.0162 - accuracy: 0.9952 - val_loss: 0.7132 - val_accuracy: 0.8964\n",
      "Epoch 12/15\n",
      "613/613 [==============================] - 13s 21ms/step - loss: 0.0184 - accuracy: 0.9955 - val_loss: 0.7073 - val_accuracy: 0.9015\n",
      "Epoch 13/15\n",
      "613/613 [==============================] - 13s 21ms/step - loss: 0.0196 - accuracy: 0.9947 - val_loss: 0.7683 - val_accuracy: 0.8955\n",
      "Epoch 14/15\n",
      "613/613 [==============================] - 13s 21ms/step - loss: 0.0115 - accuracy: 0.9969 - val_loss: 0.7917 - val_accuracy: 0.8960\n",
      "Epoch 15/15\n",
      "613/613 [==============================] - 15s 25ms/step - loss: 0.0224 - accuracy: 0.9946 - val_loss: 0.8071 - val_accuracy: 0.8940\n"
     ]
    }
   ],
   "source": [
    "from tensorflow.keras.callbacks import EarlyStopping\n",
    "epochs = 15\n",
    "mycallbacks = [EarlyStopping(monitor='val_loss', patience=20)]\n",
    "history = model.fit(X_train,y_train,batch_size=64,epochs=epochs,validation_data=(X_test,y_test), callbacks=mycallbacks)"
   ]
  },
  {
   "cell_type": "code",
   "execution_count": 67,
   "metadata": {},
   "outputs": [
    {
     "data": {
      "text/plain": [
       "<matplotlib.legend.Legend at 0x25996348fa0>"
      ]
     },
     "execution_count": 67,
     "metadata": {},
     "output_type": "execute_result"
    },
    {
     "data": {
      "image/png": "[encoded data removed]",
      "text/plain": [
       "<Figure size 640x480 with 1 Axes>"
      ]
     },
     "metadata": {},
     "output_type": "display_data"
    }
   ],
   "source": [
    "# Loss\n",
    "plt.plot(history.history['loss'])\n",
    "plt.plot(history.history['val_loss'])\n",
    "plt.legend(['loss', 'val_loss'], loc='upper right')\n",
    "\n",
    "# Accuracy\n",
    "plt.plot(history.history['accuracy'])\n",
    "plt.plot(history.history['val_accuracy'])\n",
    "plt.legend(['accuracy', 'val_accuracy'], loc='upper right')"
   ]
  },
  {
   "cell_type": "code",
   "execution_count": 68,
   "metadata": {
    "executionInfo": {
     "elapsed": 7,
     "status": "aborted",
     "timestamp": 1680281006767,
     "user": {
      "displayName": "Donovan Burbano",
      "userId": "04952822855501173167"
     },
     "user_tz": 300
    },
    "id": "PbAlhC40VVVV"
   },
   "outputs": [],
   "source": [
    "# Importamos paquete para guardar y/o cargar\n",
    "from tensorflow.keras.models import load_model"
   ]
  },
  {
   "cell_type": "code",
   "execution_count": 69,
   "metadata": {
    "executionInfo": {
     "elapsed": 7,
     "status": "aborted",
     "timestamp": 1680281006768,
     "user": {
      "displayName": "Donovan Burbano",
      "userId": "04952822855501173167"
     },
     "user_tz": 300
    },
    "id": "xqahN_FxVVVV"
   },
   "outputs": [],
   "source": [
    "model_path = os.path.join(models_path, 'burbano_chamorro.h5')\n",
    "model.save(model_path) # se guarda la red entrenada"
   ]
  },
  {
   "cell_type": "code",
   "execution_count": 70,
   "metadata": {
    "executionInfo": {
     "elapsed": 7,
     "status": "aborted",
     "timestamp": 1680281006768,
     "user": {
      "displayName": "Donovan Burbano",
      "userId": "04952822855501173167"
     },
     "user_tz": 300
    },
    "id": "-B6-CptuVVVW"
   },
   "outputs": [
    {
     "data": {
      "image/png": "[encoded data removed]",
      "text/plain": [
       "<Figure size 640x480 with 1 Axes>"
      ]
     },
     "metadata": {},
     "output_type": "display_data"
    }
   ],
   "source": [
    "# Tomemos una imagen de referencia\n",
    "Prueba = X_test[23]\n",
    "plt.imshow(Prueba)\n",
    "Clasificacion_trafico = load_model(model_path)"
   ]
  },
  {
   "cell_type": "code",
   "execution_count": 71,
   "metadata": {
    "executionInfo": {
     "elapsed": 8,
     "status": "aborted",
     "timestamp": 1680281006769,
     "user": {
      "displayName": "Donovan Burbano",
      "userId": "04952822855501173167"
     },
     "user_tz": 300
    },
    "id": "NLz2iiGZVVVW"
   },
   "outputs": [
    {
     "name": "stdout",
     "output_type": "stream",
     "text": [
      "1\n"
     ]
    }
   ],
   "source": [
    "# Ahora probamos la NN\n",
    "R = Clasificacion_trafico(Prueba.reshape(1,32,32,3))\n",
    "print(np.argmax(R))"
   ]
  }
 ],
 "metadata": {
  "accelerator": "GPU",
  "colab": {
   "provenance": []
  },
  "gpuClass": "standard",
  "kernelspec": {
   "display_name": "pytorch",
   "language": "python",
   "name": "python3"
  },
  "language_info": {
   "codemirror_mode": {
    "name": "ipython",
    "version": 3
   },
   "file_extension": ".py",
   "mimetype": "text/x-python",
   "name": "python",
   "nbconvert_exporter": "python",
   "pygments_lexer": "ipython3",
   "version": "3.9.13"
  },
  "vscode": {
   "interpreter": {
    "hash": "8b408be882b5838c3eb644de552e0fd34565128735f9af01dd459928b738c023"
   }
  }
 },
 "nbformat": 4,
 "nbformat_minor": 1
}
