{
 "cells": [
  {
   "cell_type": "code",
   "execution_count": 1,
   "metadata": {
    "executionInfo": {
     "elapsed": 381,
     "status": "ok",
     "timestamp": 1680280894595,
     "user": {
      "displayName": "Donovan Burbano",
      "userId": "04952822855501173167"
     },
     "user_tz": 300
    },
    "id": "nbr5mcVCVVVS"
   },
   "outputs": [],
   "source": [
    "# Este codigo corresponde a una NN para clasificacion de senales de trafico\n",
    "# Marzo 17, 2023"
   ]
  },
  {
   "attachments": {},
   "cell_type": "markdown",
   "metadata": {},
   "source": [
    "# Definición de rutas"
   ]
  },
  {
   "cell_type": "code",
   "execution_count": 2,
   "metadata": {},
   "outputs": [],
   "source": [
    "data_path = 'D:\\MaIE\\Semestre3\\RL\\Data\\TrafficSignals'\n",
    "models_path = 'models'\n",
    "train_data_path = 'D:\\MaIE\\Semestre3\\RL\\Data\\TrafficSignals\\Train'\n",
    "labels_path = 'D:\\MaIE\\Semestre3\\RL\\Data\\TrafficSignals\\Test.csv'"
   ]
  },
  {
   "cell_type": "code",
   "execution_count": 3,
   "metadata": {
    "executionInfo": {
     "elapsed": 44319,
     "status": "ok",
     "timestamp": 1680281006245,
     "user": {
      "displayName": "Donovan Burbano",
      "userId": "04952822855501173167"
     },
     "user_tz": 300
    },
    "id": "_2ZoB-28VVVT"
   },
   "outputs": [],
   "source": [
    "import os\n",
    "from matplotlib.image import imread\n",
    "from skimage.transform import resize\n",
    "# Organizamos los datos de entranamiento\n",
    "data = []\n",
    "labels = []\n",
    "classes = 43 # la cantidad posible de etiquetas\n",
    "lista = os.listdir(train_data_path)\n",
    "lista.remove('.DS_Store')\n",
    "for i in lista: # for loop para las carpetas\n",
    "    dir = train_data_path+'/'+i\n",
    "    for j in os.listdir(dir): # for loop para las imagenes dentro de la carpeta\n",
    "        ima_path = dir+'/'+j\n",
    "        imagen = imread(ima_path,-1)\n",
    "        imagen = resize(imagen,(32,32))\n",
    "        data.append(imagen)\n",
    "        labels.append(i)"
   ]
  },
  {
   "cell_type": "code",
   "execution_count": 4,
   "metadata": {
    "colab": {
     "base_uri": "https://localhost:8080/"
    },
    "executionInfo": {
     "elapsed": 15,
     "status": "ok",
     "timestamp": 1680281006245,
     "user": {
      "displayName": "Donovan Burbano",
      "userId": "04952822855501173167"
     },
     "user_tz": 300
    },
    "id": "jWvAQfV8VVVT",
    "outputId": "f466ea21-31fa-483f-e36f-b33c763638a8"
   },
   "outputs": [
    {
     "name": "stdout",
     "output_type": "stream",
     "text": [
      "(39209, 32, 32, 3) (39209,)\n"
     ]
    }
   ],
   "source": [
    "import numpy as np\n",
    "data1 = np.array(data)\n",
    "labels1 = np.array(labels)\n",
    "print(data1.shape,labels1.shape)"
   ]
  },
  {
   "cell_type": "code",
   "execution_count": 5,
   "metadata": {
    "colab": {
     "base_uri": "https://localhost:8080/",
     "height": 106
    },
    "executionInfo": {
     "elapsed": 7,
     "status": "ok",
     "timestamp": 1680281006245,
     "user": {
      "displayName": "Donovan Burbano",
      "userId": "04952822855501173167"
     },
     "user_tz": 300
    },
    "id": "2ibiE5YZVVVU",
    "outputId": "4f2bf567-d79a-4777-82d1-3e2062e9d51c"
   },
   "outputs": [
    {
     "data": {
      "text/plain": [
       "<matplotlib.image.AxesImage at 0x260f8111a30>"
      ]
     },
     "execution_count": 5,
     "metadata": {},
     "output_type": "execute_result"
    },
    {
     "data": {
      "image/png": "[encoded data removed]",
      "text/plain": [
       "<Figure size 640x480 with 1 Axes>"
      ]
     },
     "metadata": {},
     "output_type": "display_data"
    }
   ],
   "source": [
    "import matplotlib.pyplot as plt\n",
    "plt.imshow(imagen)"
   ]
  },
  {
   "cell_type": "code",
   "execution_count": 6,
   "metadata": {
    "colab": {
     "base_uri": "https://localhost:8080/",
     "height": 380
    },
    "executionInfo": {
     "elapsed": 524,
     "status": "error",
     "timestamp": 1680281006765,
     "user": {
      "displayName": "Donovan Burbano",
      "userId": "04952822855501173167"
     },
     "user_tz": 300
    },
    "id": "X5IvPc6ZVVVU",
    "outputId": "26ac2bd5-49e7-4a36-fe3f-fc3c5535f248"
   },
   "outputs": [],
   "source": [
    "# organizar los datos de testeo\n",
    "import pandas as pd\n",
    "import os\n",
    "data = []\n",
    "labels = []\n",
    "Table = pd.read_csv(labels_path)\n",
    "Table['Path']\n",
    "for j in range(0,Table['Path'].shape[0]):\n",
    "    ima_path =os.path.join(data_path, Table['Path'][j])\n",
    "    imagen = imread(ima_path,-1)\n",
    "    imagen = resize(imagen,(32,32))\n",
    "    data.append(imagen)\n",
    "    labels.append(Table['ClassId'][j])"
   ]
  },
  {
   "cell_type": "code",
   "execution_count": 7,
   "metadata": {
    "executionInfo": {
     "elapsed": 5,
     "status": "aborted",
     "timestamp": 1680281006765,
     "user": {
      "displayName": "Donovan Burbano",
      "userId": "04952822855501173167"
     },
     "user_tz": 300
    },
    "id": "uH6z5IRqVVVU"
   },
   "outputs": [
    {
     "name": "stdout",
     "output_type": "stream",
     "text": [
      "(12630, 32, 32, 3) (12630,)\n"
     ]
    }
   ],
   "source": [
    "data2 = np.array(data)\n",
    "labels2 = np.array(labels)\n",
    "print(data2.shape,labels2.shape)"
   ]
  },
  {
   "cell_type": "code",
   "execution_count": 8,
   "metadata": {
    "executionInfo": {
     "elapsed": 5,
     "status": "aborted",
     "timestamp": 1680281006765,
     "user": {
      "displayName": "Donovan Burbano",
      "userId": "04952822855501173167"
     },
     "user_tz": 300
    },
    "id": "BkzTXRQrVVVU"
   },
   "outputs": [],
   "source": [
    "# Organizamos entradas y salidas de la NN\n",
    "X_train = data1\n",
    "y_train = labels1\n",
    "X_test = data2\n",
    "y_test = labels2"
   ]
  },
  {
   "cell_type": "code",
   "execution_count": 9,
   "metadata": {
    "executionInfo": {
     "elapsed": 6,
     "status": "aborted",
     "timestamp": 1680281006766,
     "user": {
      "displayName": "Donovan Burbano",
      "userId": "04952822855501173167"
     },
     "user_tz": 300
    },
    "id": "caJIJY7nVVVV"
   },
   "outputs": [
    {
     "name": "stdout",
     "output_type": "stream",
     "text": [
      "(12630, 43)\n"
     ]
    }
   ],
   "source": [
    "from tensorflow.keras.utils import to_categorical\n",
    "y_train = to_categorical(y_train,43)\n",
    "y_test = to_categorical(y_test,43)\n",
    "print(y_test.shape)"
   ]
  },
  {
   "cell_type": "code",
   "execution_count": 10,
   "metadata": {
    "executionInfo": {
     "elapsed": 6,
     "status": "aborted",
     "timestamp": 1680281006766,
     "user": {
      "displayName": "Donovan Burbano",
      "userId": "04952822855501173167"
     },
     "user_tz": 300
    },
    "id": "hHrkvv-XVVVV"
   },
   "outputs": [],
   "source": [
    "# definimos la arquitectura de la NN\n",
    "from keras.preprocessing.image import ImageDataGenerator\n",
    "from keras.models import Sequential, load_model\n",
    "from keras.layers import Conv2D, MaxPool2D, MaxPooling2D, Dense, Flatten, Dropout\n",
    "from tensorflow.keras.layers.experimental.preprocessing import Rescaling\n",
    "\n",
    "model = Sequential()\n",
    "model.add(Conv2D(filters = 32, kernel_size=(5,5),activation = 'relu', input_shape =(32,32,3)))\n",
    "model.add(Conv2D(filters = 32, kernel_size=(5,5),activation = 'relu'))\n",
    "model.add(Conv2D(filters = 64, kernel_size=(3,3),activation = 'relu'))\n",
    "model.add(Conv2D(filters = 64, kernel_size=(3,3),activation = 'relu'))\n",
    "model.add(Flatten())\n",
    "model.add(Dense(256,activation = 'relu'))\n",
    "model.add(Dense(43,activation='softmax'))"
   ]
  },
  {
   "cell_type": "code",
   "execution_count": 11,
   "metadata": {
    "executionInfo": {
     "elapsed": 6,
     "status": "aborted",
     "timestamp": 1680281006766,
     "user": {
      "displayName": "Donovan Burbano",
      "userId": "04952822855501173167"
     },
     "user_tz": 300
    },
    "id": "bwmpONy3az1l"
   },
   "outputs": [],
   "source": [
    "model.compile(loss='categorical_crossentropy',optimizer='adam',metrics=['accuracy'])"
   ]
  },
  {
   "cell_type": "code",
   "execution_count": 12,
   "metadata": {
    "executionInfo": {
     "elapsed": 6,
     "status": "aborted",
     "timestamp": 1680281006766,
     "user": {
      "displayName": "Donovan Burbano",
      "userId": "04952822855501173167"
     },
     "user_tz": 300
    },
    "id": "Xebeya1TVVVV"
   },
   "outputs": [
    {
     "name": "stdout",
     "output_type": "stream",
     "text": [
      "Epoch 1/15\n",
      "613/613 [==============================] - 35s 57ms/step - loss: 0.4057 - accuracy: 0.8959 - val_loss: 0.2631 - val_accuracy: 0.9332\n",
      "Epoch 2/15\n",
      "613/613 [==============================] - 34s 55ms/step - loss: 0.0502 - accuracy: 0.9864 - val_loss: 0.3112 - val_accuracy: 0.9335\n",
      "Epoch 3/15\n",
      "613/613 [==============================] - 35s 56ms/step - loss: 0.0261 - accuracy: 0.9922 - val_loss: 0.2532 - val_accuracy: 0.9523\n",
      "Epoch 4/15\n",
      "613/613 [==============================] - 34s 55ms/step - loss: 0.0212 - accuracy: 0.9936 - val_loss: 0.3426 - val_accuracy: 0.9479\n",
      "Epoch 5/15\n",
      "613/613 [==============================] - 34s 55ms/step - loss: 0.0191 - accuracy: 0.9944 - val_loss: 0.3788 - val_accuracy: 0.9485\n",
      "Epoch 6/15\n",
      "613/613 [==============================] - 34s 56ms/step - loss: 0.0140 - accuracy: 0.9958 - val_loss: 0.2889 - val_accuracy: 0.9564\n",
      "Epoch 7/15\n",
      "613/613 [==============================] - 34s 55ms/step - loss: 0.0120 - accuracy: 0.9965 - val_loss: 0.2746 - val_accuracy: 0.9516\n",
      "Epoch 8/15\n",
      "613/613 [==============================] - 36s 59ms/step - loss: 0.0167 - accuracy: 0.9954 - val_loss: 0.2958 - val_accuracy: 0.9496\n",
      "Epoch 9/15\n",
      "613/613 [==============================] - 39s 63ms/step - loss: 0.0075 - accuracy: 0.9980 - val_loss: 0.2951 - val_accuracy: 0.9530\n",
      "Epoch 10/15\n",
      "613/613 [==============================] - 37s 61ms/step - loss: 0.0111 - accuracy: 0.9969 - val_loss: 0.3709 - val_accuracy: 0.9485\n",
      "Epoch 11/15\n",
      "613/613 [==============================] - 38s 62ms/step - loss: 0.0093 - accuracy: 0.9974 - val_loss: 0.3424 - val_accuracy: 0.9642\n",
      "Epoch 12/15\n",
      "613/613 [==============================] - 37s 60ms/step - loss: 0.0090 - accuracy: 0.9974 - val_loss: 0.3025 - val_accuracy: 0.9599\n",
      "Epoch 13/15\n",
      "613/613 [==============================] - 39s 64ms/step - loss: 0.0048 - accuracy: 0.9988 - val_loss: 0.2924 - val_accuracy: 0.9534\n",
      "Epoch 14/15\n",
      "613/613 [==============================] - 38s 62ms/step - loss: 0.0098 - accuracy: 0.9974 - val_loss: 0.2722 - val_accuracy: 0.9625\n",
      "Epoch 15/15\n",
      "613/613 [==============================] - 37s 61ms/step - loss: 0.0042 - accuracy: 0.9987 - val_loss: 0.2872 - val_accuracy: 0.9590\n"
     ]
    }
   ],
   "source": [
    "from tensorflow.keras.callbacks import EarlyStopping\n",
    "epochs = 15\n",
    "mycallbacks = [EarlyStopping(monitor='val_loss', patience=20)]\n",
    "history = model.fit(X_train,y_train,batch_size=64,epochs=epochs,validation_data=(X_test,y_test), callbacks=mycallbacks)"
   ]
  },
  {
   "cell_type": "code",
   "execution_count": 13,
   "metadata": {},
   "outputs": [
    {
     "data": {
      "text/plain": [
       "<matplotlib.legend.Legend at 0x260f94f9310>"
      ]
     },
     "execution_count": 13,
     "metadata": {},
     "output_type": "execute_result"
    },
    {
     "data": {
      "image/png": "[encoded data removed]",
      "text/plain": [
       "<Figure size 640x480 with 1 Axes>"
      ]
     },
     "metadata": {},
     "output_type": "display_data"
    }
   ],
   "source": [
    "# Loss\n",
    "plt.plot(history.history['loss'])\n",
    "plt.plot(history.history['val_loss'])\n",
    "plt.legend(['loss', 'val_loss'], loc='upper right')\n",
    "\n",
    "# Accuracy\n",
    "plt.plot(history.history['accuracy'])\n",
    "plt.plot(history.history['val_accuracy'])\n",
    "plt.legend(['accuracy', 'val_accuracy'], loc='upper right')"
   ]
  },
  {
   "cell_type": "code",
   "execution_count": 14,
   "metadata": {
    "executionInfo": {
     "elapsed": 7,
     "status": "aborted",
     "timestamp": 1680281006767,
     "user": {
      "displayName": "Donovan Burbano",
      "userId": "04952822855501173167"
     },
     "user_tz": 300
    },
    "id": "PbAlhC40VVVV"
   },
   "outputs": [],
   "source": [
    "# Importamos paquete para guardar y/o cargar\n",
    "from tensorflow.keras.models import load_model"
   ]
  },
  {
   "cell_type": "code",
   "execution_count": 15,
   "metadata": {
    "executionInfo": {
     "elapsed": 7,
     "status": "aborted",
     "timestamp": 1680281006768,
     "user": {
      "displayName": "Donovan Burbano",
      "userId": "04952822855501173167"
     },
     "user_tz": 300
    },
    "id": "xqahN_FxVVVV"
   },
   "outputs": [],
   "source": [
    "model_path = os.path.join(models_path, 'teacher.h5')\n",
    "model.save(model_path) # se guarda la red entrenada"
   ]
  },
  {
   "cell_type": "code",
   "execution_count": 16,
   "metadata": {
    "executionInfo": {
     "elapsed": 7,
     "status": "aborted",
     "timestamp": 1680281006768,
     "user": {
      "displayName": "Donovan Burbano",
      "userId": "04952822855501173167"
     },
     "user_tz": 300
    },
    "id": "-B6-CptuVVVW"
   },
   "outputs": [
    {
     "data": {
      "image/png": "[encoded data removed]",
      "text/plain": [
       "<Figure size 640x480 with 1 Axes>"
      ]
     },
     "metadata": {},
     "output_type": "display_data"
    }
   ],
   "source": [
    "# Tomemos una imagen de referencia\n",
    "Prueba = X_test[23]\n",
    "plt.imshow(Prueba)\n",
    "Clasificacion_trafico = load_model(model_path)"
   ]
  },
  {
   "cell_type": "code",
   "execution_count": 17,
   "metadata": {
    "executionInfo": {
     "elapsed": 8,
     "status": "aborted",
     "timestamp": 1680281006769,
     "user": {
      "displayName": "Donovan Burbano",
      "userId": "04952822855501173167"
     },
     "user_tz": 300
    },
    "id": "NLz2iiGZVVVW"
   },
   "outputs": [
    {
     "name": "stdout",
     "output_type": "stream",
     "text": [
      "3\n"
     ]
    }
   ],
   "source": [
    "# Ahora probamos la NN\n",
    "R = Clasificacion_trafico(Prueba.reshape(1,32,32,3))\n",
    "print(np.argmax(R))"
   ]
  }
 ],
 "metadata": {
  "accelerator": "GPU",
  "colab": {
   "provenance": []
  },
  "gpuClass": "standard",
  "kernelspec": {
   "display_name": "pytorch",
   "language": "python",
   "name": "python3"
  },
  "language_info": {
   "codemirror_mode": {
    "name": "ipython",
    "version": 3
   },
   "file_extension": ".py",
   "mimetype": "text/x-python",
   "name": "python",
   "nbconvert_exporter": "python",
   "pygments_lexer": "ipython3",
   "version": "3.9.13"
  },
  "vscode": {
   "interpreter": {
    "hash": "8b408be882b5838c3eb644de552e0fd34565128735f9af01dd459928b738c023"
   }
  }
 },
 "nbformat": 4,
 "nbformat_minor": 1
}
